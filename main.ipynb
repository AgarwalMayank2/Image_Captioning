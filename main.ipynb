{
 "cells": [
  {
   "cell_type": "code",
   "execution_count": 8,
   "id": "8ef5a382",
   "metadata": {},
   "outputs": [],
   "source": [
    "import pre_processing\n",
    "from sklearn.model_selection import train_test_split\n",
    "import torch"
   ]
  },
  {
   "cell_type": "code",
   "execution_count": 9,
   "id": "42cf1711",
   "metadata": {},
   "outputs": [
    {
     "data": {
      "text/plain": [
       "device(type='cuda')"
      ]
     },
     "execution_count": 9,
     "metadata": {},
     "output_type": "execute_result"
    }
   ],
   "source": [
    "device = torch.device(\"cuda\" if torch.cuda.is_available() else \"cpu\")\n",
    "device"
   ]
  },
  {
   "cell_type": "code",
   "execution_count": 4,
   "id": "5312c8e8",
   "metadata": {},
   "outputs": [
    {
     "name": "stdout",
     "output_type": "stream",
     "text": [
      "8921\n"
     ]
    },
    {
     "data": {
      "text/html": [
       "<div>\n",
       "<style scoped>\n",
       "    .dataframe tbody tr th:only-of-type {\n",
       "        vertical-align: middle;\n",
       "    }\n",
       "\n",
       "    .dataframe tbody tr th {\n",
       "        vertical-align: top;\n",
       "    }\n",
       "\n",
       "    .dataframe thead th {\n",
       "        text-align: right;\n",
       "    }\n",
       "</style>\n",
       "<table border=\"1\" class=\"dataframe\">\n",
       "  <thead>\n",
       "    <tr style=\"text-align: right;\">\n",
       "      <th></th>\n",
       "      <th>image</th>\n",
       "      <th>caption</th>\n",
       "      <th>cleaned_captions</th>\n",
       "      <th>tokenized_captions</th>\n",
       "    </tr>\n",
       "  </thead>\n",
       "  <tbody>\n",
       "    <tr>\n",
       "      <th>0</th>\n",
       "      <td>1000268201_693b08cb0e.jpg</td>\n",
       "      <td>A child in a pink dress is climbing up a set o...</td>\n",
       "      <td>[&lt;start&gt;, a, child, in, a, pink, dress, is, cl...</td>\n",
       "      <td>[2, 1, 44, 5, 1, 92, 172, 8, 121, 55, 1, 398, ...</td>\n",
       "    </tr>\n",
       "    <tr>\n",
       "      <th>1</th>\n",
       "      <td>1000268201_693b08cb0e.jpg</td>\n",
       "      <td>A girl going into a wooden building .</td>\n",
       "      <td>[&lt;start&gt;, a, girl, going, into, a, wooden, bui...</td>\n",
       "      <td>[2, 1, 20, 317, 66, 1, 196, 119, 4, 3, 0, 0, 0...</td>\n",
       "    </tr>\n",
       "    <tr>\n",
       "      <th>2</th>\n",
       "      <td>1000268201_693b08cb0e.jpg</td>\n",
       "      <td>A little girl climbing into a wooden playhouse .</td>\n",
       "      <td>[&lt;start&gt;, a, little, girl, climbing, into, a, ...</td>\n",
       "      <td>[2, 1, 42, 20, 121, 66, 1, 196, 2438, 4, 3, 0,...</td>\n",
       "    </tr>\n",
       "    <tr>\n",
       "      <th>3</th>\n",
       "      <td>1000268201_693b08cb0e.jpg</td>\n",
       "      <td>A little girl climbing the stairs to her playh...</td>\n",
       "      <td>[&lt;start&gt;, a, little, girl, climbing, the, stai...</td>\n",
       "      <td>[2, 1, 42, 20, 121, 6, 395, 22, 62, 2438, 4, 3...</td>\n",
       "    </tr>\n",
       "    <tr>\n",
       "      <th>4</th>\n",
       "      <td>1000268201_693b08cb0e.jpg</td>\n",
       "      <td>A little girl in a pink dress going into a woo...</td>\n",
       "      <td>[&lt;start&gt;, a, little, girl, in, a, pink, dress,...</td>\n",
       "      <td>[2, 1, 42, 20, 5, 1, 92, 172, 317, 66, 1, 196,...</td>\n",
       "    </tr>\n",
       "  </tbody>\n",
       "</table>\n",
       "</div>"
      ],
      "text/plain": [
       "                       image  \\\n",
       "0  1000268201_693b08cb0e.jpg   \n",
       "1  1000268201_693b08cb0e.jpg   \n",
       "2  1000268201_693b08cb0e.jpg   \n",
       "3  1000268201_693b08cb0e.jpg   \n",
       "4  1000268201_693b08cb0e.jpg   \n",
       "\n",
       "                                             caption  \\\n",
       "0  A child in a pink dress is climbing up a set o...   \n",
       "1              A girl going into a wooden building .   \n",
       "2   A little girl climbing into a wooden playhouse .   \n",
       "3  A little girl climbing the stairs to her playh...   \n",
       "4  A little girl in a pink dress going into a woo...   \n",
       "\n",
       "                                    cleaned_captions  \\\n",
       "0  [<start>, a, child, in, a, pink, dress, is, cl...   \n",
       "1  [<start>, a, girl, going, into, a, wooden, bui...   \n",
       "2  [<start>, a, little, girl, climbing, into, a, ...   \n",
       "3  [<start>, a, little, girl, climbing, the, stai...   \n",
       "4  [<start>, a, little, girl, in, a, pink, dress,...   \n",
       "\n",
       "                                  tokenized_captions  \n",
       "0  [2, 1, 44, 5, 1, 92, 172, 8, 121, 55, 1, 398, ...  \n",
       "1  [2, 1, 20, 317, 66, 1, 196, 119, 4, 3, 0, 0, 0...  \n",
       "2  [2, 1, 42, 20, 121, 66, 1, 196, 2438, 4, 3, 0,...  \n",
       "3  [2, 1, 42, 20, 121, 6, 395, 22, 62, 2438, 4, 3...  \n",
       "4  [2, 1, 42, 20, 5, 1, 92, 172, 317, 66, 1, 196,...  "
      ]
     },
     "execution_count": 4,
     "metadata": {},
     "output_type": "execute_result"
    }
   ],
   "source": [
    "processed_data = pre_processing.PreProcess('flickr8k/captions.txt')\n",
    "print(processed_data.vocab_size)\n",
    "processed_data.data.head()"
   ]
  },
  {
   "cell_type": "code",
   "execution_count": 5,
   "id": "7a8d52f7",
   "metadata": {},
   "outputs": [
    {
     "data": {
      "text/plain": [
       "((36409, 4), (4046, 4))"
      ]
     },
     "execution_count": 5,
     "metadata": {},
     "output_type": "execute_result"
    }
   ],
   "source": [
    "train_data, val_data = train_test_split(processed_data.data, test_size = 0.1, random_state = 42)\n",
    "train_data.reset_index(drop = True, inplace = True)\n",
    "val_data.reset_index(drop = True, inplace = True)\n",
    "train_data.shape, val_data.shape"
   ]
  },
  {
   "cell_type": "code",
   "execution_count": 7,
   "id": "99d061eb",
   "metadata": {},
   "outputs": [
    {
     "data": {
      "text/plain": [
       "((8091, 1), (8091, 1), (3323, 1))"
      ]
     },
     "execution_count": 7,
     "metadata": {},
     "output_type": "execute_result"
    }
   ],
   "source": [
    "unq_data = processed_data.data[['image']].drop_duplicates()\n",
    "unq_train_data = train_data[['image']].drop_duplicates()\n",
    "unq_val_data = val_data[['image']].drop_duplicates()\n",
    "unq_data.shape, unq_train_data.shape, unq_val_data.shape"
   ]
  },
  {
   "cell_type": "code",
   "execution_count": 10,
   "id": "cfda65b8",
   "metadata": {},
   "outputs": [
    {
     "name": "stderr",
     "output_type": "stream",
     "text": [
      "c:\\Users\\mayan\\anaconda3\\envs\\ai\\Lib\\site-packages\\torchvision\\models\\_utils.py:208: UserWarning: The parameter 'pretrained' is deprecated since 0.13 and may be removed in the future, please use 'weights' instead.\n",
      "  warnings.warn(\n",
      "c:\\Users\\mayan\\anaconda3\\envs\\ai\\Lib\\site-packages\\torchvision\\models\\_utils.py:223: UserWarning: Arguments other than a weight enum or `None` for 'weights' are deprecated since 0.13 and may be removed in the future. The current behavior is equivalent to passing `weights=ResNet50_Weights.IMAGENET1K_V1`. You can also use `weights=ResNet50_Weights.DEFAULT` to get the most up-to-date weights.\n",
      "  warnings.warn(msg)\n",
      "Downloading: \"https://download.pytorch.org/models/resnet50-0676ba61.pth\" to C:\\Users\\mayan/.cache\\torch\\hub\\checkpoints\\resnet50-0676ba61.pth\n",
      "100%|██████████| 97.8M/97.8M [00:18<00:00, 5.57MB/s]\n"
     ]
    },
    {
     "data": {
      "text/plain": [
       "['conv1',\n",
       " 'bn1',\n",
       " 'relu',\n",
       " 'maxpool',\n",
       " 'layer1',\n",
       " 'layer2',\n",
       " 'layer3',\n",
       " 'layer4',\n",
       " 'avgpool',\n",
       " 'fc']"
      ]
     },
     "execution_count": 10,
     "metadata": {},
     "output_type": "execute_result"
    }
   ],
   "source": [
    "from torchvision.models import resnet50\n",
    "\n",
    "resnet = resnet50(pretrained = True).to(device)\n",
    "resnet.eval()\n",
    "list(resnet._modules)"
   ]
  }
 ],
 "metadata": {
  "kernelspec": {
   "display_name": "ai",
   "language": "python",
   "name": "python3"
  },
  "language_info": {
   "codemirror_mode": {
    "name": "ipython",
    "version": 3
   },
   "file_extension": ".py",
   "mimetype": "text/x-python",
   "name": "python",
   "nbconvert_exporter": "python",
   "pygments_lexer": "ipython3",
   "version": "3.12.8"
  }
 },
 "nbformat": 4,
 "nbformat_minor": 5
}
